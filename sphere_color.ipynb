{
 "cells": [
  {
   "cell_type": "code",
   "execution_count": null,
   "metadata": {},
   "outputs": [],
   "source": [
    "import torch\n",
    "from torch import nn\n",
    "import numpy as np\n",
    "import matplotlib.pyplot as plt\n",
    "\n",
    "from utils import ray_generator, plot_rays\n",
    "from model import Sphere\n",
    "from rendering import rendering\n",
    "from loss import mse_loss, mse2psnr"
   ]
  },
  {
   "cell_type": "code",
   "execution_count": null,
   "metadata": {},
   "outputs": [],
   "source": [
    "# constants\n",
    "HEIGHT = 400\n",
    "WIDTH = 400\n",
    "FOCUS = 1200\n",
    "\n",
    "tn = 0.8\n",
    "tf = 1.2\n",
    "\n",
    "ORIGIN = [0.0, 0.0, -1.0]\n",
    "RADIUS = [0.1]\n",
    "learning_rate = 2e-1\n",
    "\n",
    "color = [0.0, 1.0, 1.0]  # cyan\n",
    "target_color = [1.0, 0.0, 1.0]  # purple"
   ]
  },
  {
   "cell_type": "code",
   "execution_count": null,
   "metadata": {},
   "outputs": [],
   "source": [
    "rays_origin, rays_direction = ray_generator(HEIGHT, WIDTH, FOCUS)\n",
    "\n",
    "target_sphere = Sphere(\n",
    "    torch.tensor(ORIGIN), torch.tensor(RADIUS), torch.tensor(target_color)\n",
    ")\n",
    "target_px_colors = rendering(\n",
    "    target_sphere,\n",
    "    torch.tensor(rays_origin),\n",
    "    torch.tensor(rays_direction),\n",
    "    0.8,\n",
    "    1.2,\n",
    "    white_background=False,\n",
    ")\n",
    "\n",
    "target_img = target_px_colors.reshape(HEIGHT, WIDTH, 3).cpu().numpy()\n",
    "plt.title(f\"target color: {target_color}\")\n",
    "plt.axis(False)\n",
    "plt.imshow(target_img)\n",
    "plt.savefig(\"images/target_sphere.jpg\", bbox_inches=\"tight\")"
   ]
  },
  {
   "cell_type": "code",
   "execution_count": null,
   "metadata": {},
   "outputs": [],
   "source": [
    "color_to_optimize = torch.tensor(color, requires_grad=True, dtype=torch.float32)\n",
    "optimizer = torch.optim.SGD(params={color_to_optimize}, lr=learning_rate)"
   ]
  },
  {
   "cell_type": "code",
   "execution_count": null,
   "metadata": {},
   "outputs": [],
   "source": [
    "unoptim_sphere = Sphere(torch.tensor(ORIGIN), torch.tensor(RADIUS), color_to_optimize)\n",
    "unoptim_px_colors = rendering(\n",
    "    unoptim_sphere,\n",
    "    torch.tensor(rays_origin),\n",
    "    torch.tensor(rays_direction),\n",
    "    0.8,\n",
    "    1.2,\n",
    "    white_background=False,\n",
    ")\n",
    "unoptim_img = unoptim_px_colors.reshape(HEIGHT, WIDTH, 3).data.cpu().numpy()\n",
    "plt.title(f\"unoptimized color: {color}\")\n",
    "plt.axis(False)\n",
    "plt.imshow(unoptim_img)\n",
    "plt.savefig(f\"images/unoptimized_sphere.jpg\", bbox_inches=\"tight\")"
   ]
  },
  {
   "cell_type": "code",
   "execution_count": null,
   "metadata": {},
   "outputs": [],
   "source": [
    "concat_image = np.hstack((target_img, unoptim_img))\n",
    "plt.axis(False)\n",
    "plt.imshow(concat_image)"
   ]
  },
  {
   "cell_type": "code",
   "execution_count": null,
   "metadata": {},
   "outputs": [],
   "source": [
    "losses = []\n",
    "for epoch in range(200):\n",
    "    # using helper functions without print statements\n",
    "    s = Sphere(torch.tensor(ORIGIN), torch.tensor(RADIUS), color_to_optimize)\n",
    "    Ax = rendering(\n",
    "        s,\n",
    "        torch.tensor(rays_origin),\n",
    "        torch.tensor(rays_direction),\n",
    "        0.8,\n",
    "        1.2,\n",
    "        white_background=False,\n",
    "    )\n",
    "\n",
    "    loss = ((Ax - target_px_colors) ** 2).mean()\n",
    "    losses.append(loss.item())\n",
    "\n",
    "    optimizer.zero_grad()\n",
    "    loss.backward()\n",
    "    optimizer.step()\n",
    "\n",
    "    if epoch % 10 == 0:\n",
    "        current_color = [round(color, 4) for color in color_to_optimize.data.tolist()]\n",
    "        print(f\"loss: {loss:.4f}\")\n",
    "        print(f\"color: {current_color}\")\n",
    "\n",
    "        img = Ax.reshape(HEIGHT, WIDTH, 3).cpu().data.numpy()\n",
    "        plt.title(f\"{current_color}\")\n",
    "        plt.axis(False)\n",
    "        plt.imshow(img)\n",
    "        # plt.show()\n",
    "        plt.savefig(f\"sphere_img/sphere_epoch_{str(epoch)}.jpg\", bbox_inches=\"tight\")"
   ]
  },
  {
   "cell_type": "code",
   "execution_count": null,
   "metadata": {},
   "outputs": [],
   "source": [
    "plt.plot(losses)\n",
    "plt.xlabel(\"epochs\")\n",
    "plt.ylabel(\"loss\")\n",
    "plt.savefig(f\"images/sphere_loss.jpg\", bbox_inches=\"tight\")"
   ]
  },
  {
   "cell_type": "code",
   "execution_count": null,
   "metadata": {},
   "outputs": [],
   "source": [
    "import json\n",
    "\n",
    "with open(\"outputs/sphere_losses.json\", \"r\") as file:\n",
    "    t_losses = json.dump(file)"
   ]
  },
  {
   "cell_type": "code",
   "execution_count": null,
   "metadata": {},
   "outputs": [],
   "source": [
    "losses = []\n",
    "for epoch in range(200):\n",
    "    # using helper functions without print statements\n",
    "    s = Sphere(torch.tensor(ORIGIN), torch.tensor(RADIUS), color_to_optimize)\n",
    "    Ax = rendering(\n",
    "        s,\n",
    "        torch.tensor(rays_origin),\n",
    "        torch.tensor(rays_direction),\n",
    "        0.8,\n",
    "        1.2,\n",
    "        white_background=False,\n",
    "    )\n",
    "\n",
    "    loss = ((Ax - target_px_colors) ** 2).mean()\n",
    "    losses.append(loss.item())\n",
    "\n",
    "    optimizer.zero_grad()\n",
    "    loss.backward()\n",
    "    optimizer.step()\n",
    "\n",
    "    if epoch % 10 == 0:\n",
    "        current_color = [round(color, 4) for color in color_to_optimize.data.tolist()]\n",
    "        print(f\"loss: {loss:.4f}\")\n",
    "        print(f\"color: {current_color}\")\n",
    "\n",
    "        img = Ax.reshape(HEIGHT, WIDTH, 3).cpu().data.numpy()\n",
    "        fig, axs = plt.subplots(1, 2, figsize=(20, 9))\n",
    "        axs[0].imshow(img)\n",
    "        axs[0].set_title(f\"{current_color}\")\n",
    "        axs[0].axis(False)\n",
    "\n",
    "        axs[1].plot(t_losses)\n",
    "        axs[1].scatter(epoch, t_losses[epoch], c=\"m\", label=\"epoch no.\")\n",
    "        axs[1].set(xlabel=\"epoch\", ylabel=\"loss\")\n",
    "        axs[1].legend()\n",
    "\n",
    "        plt.tight_layout()\n",
    "\n",
    "        plt.savefig(f\"sphere_img/sphere_epoch_{str(epoch)}.jpg\", bbox_inches=\"tight\")\n",
    "        plt.show()"
   ]
  },
  {
   "cell_type": "code",
   "execution_count": null,
   "metadata": {},
   "outputs": [],
   "source": [
    "from train import graphing_sphere_train, sphere_train\n",
    "\n",
    "# graphing_sphere_train(color_to_optimize, rays_origin, rays_direction, target_px_colors, optimizer, save_dir=\"test_img\")\n",
    "sphere_train(\n",
    "    color_to_optimize,\n",
    "    rays_origin,\n",
    "    rays_direction,\n",
    "    target_px_colors,\n",
    "    optimizer,\n",
    "    save_dir=\"test_img\",\n",
    ")"
   ]
  }
 ],
 "metadata": {
  "kernelspec": {
   "display_name": "base",
   "language": "python",
   "name": "python3"
  },
  "language_info": {
   "codemirror_mode": {
    "name": "ipython",
    "version": 3
   },
   "file_extension": ".py",
   "mimetype": "text/x-python",
   "name": "python",
   "nbconvert_exporter": "python",
   "pygments_lexer": "ipython3",
   "version": "3.12.1"
  }
 },
 "nbformat": 4,
 "nbformat_minor": 2
}
