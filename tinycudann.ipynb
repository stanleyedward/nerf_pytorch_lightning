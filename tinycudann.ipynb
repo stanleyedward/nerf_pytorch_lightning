{
 "cells": [
  {
   "cell_type": "code",
   "execution_count": null,
   "metadata": {},
   "outputs": [],
   "source": [
    "!pip install git+https://github.com/NVlabs/tiny-cuda-nn/#subdirectory=bindings/torch"
   ]
  },
  {
   "cell_type": "code",
   "execution_count": null,
   "metadata": {},
   "outputs": [],
   "source": [
    "import tinycudann as tcnn\n",
    "import torch\n",
    "from torch import nn\n",
    "import time\n",
    "from torch.cuda.amp import autocast"
   ]
  },
  {
   "cell_type": "code",
   "execution_count": null,
   "metadata": {},
   "outputs": [],
   "source": [
    "\n",
    "def run(n_input_dims):\n",
    "    print(\"n_input_dims:\", n_input_dims)\n",
    "    network_config = {\n",
    "        \"otype\": \"FullyFusedMLP\",\n",
    "        \"activation\": \"ReLU\",\n",
    "        \"output_activation\": \"None\",\n",
    "        \"n_neurons\": 64,\n",
    "        \"n_hidden_layers\": 2\n",
    "    }\n",
    "\n",
    "    n_output_dims = 4\n",
    "    n_neurons = network_config[\"n_neurons\"]\n",
    "    n_hidden_layers = network_config[\"n_hidden_layers\"]\n",
    "\n",
    "    # define tiny-cuda-nn model\n",
    "    ffmlp = tcnn.Network(n_input_dims, n_output_dims, network_config)\n",
    "\n",
    "    # define pytorch mlp\n",
    "    layers = [nn.Linear(n_input_dims, n_neurons), nn.ReLU()]\n",
    "    for i in range(n_hidden_layers):\n",
    "        layers.append(nn.Linear(n_neurons, n_neurons))\n",
    "        layers.append(nn.ReLU())\n",
    "    layers.append(nn.Linear(n_neurons, n_output_dims))\n",
    "    mlp = nn.Sequential(*layers).to(\"cuda\")\n",
    "\n",
    "    ffmlp.eval()\n",
    "    mlp.eval()\n",
    "\n",
    "    # measure time\n",
    "    n_loop = 100\n",
    "\n",
    "    x = torch.randn(2 ** 21, n_input_dims, device=\"cuda\")\n",
    "\n",
    "    with torch.set_grad_enabled(False):\n",
    "        torch.cuda.synchronize()\n",
    "        start = time.time()\n",
    "        for i in range(n_loop):\n",
    "            ffmlp_out = ffmlp(x)\n",
    "        torch.cuda.synchronize()\n",
    "        end = time.time()\n",
    "        print(f\"ffmlp time:\", end - start)\n",
    "\n",
    "        with autocast():\n",
    "            torch.cuda.synchronize()\n",
    "            start = time.time()\n",
    "            for i in range(n_loop):\n",
    "                mlp_out = mlp(x)\n",
    "            torch.cuda.synchronize()\n",
    "            end = time.time()\n",
    "            print(f\"torch mlp time:\", end - start)\n"
   ]
  },
  {
   "cell_type": "code",
   "execution_count": null,
   "metadata": {},
   "outputs": [],
   "source": [
    "if __name__ == \"__main__\":\n",
    "    run(n_input_dims=8)\n",
    "    run(n_input_dims=16)\n",
    "    run(n_input_dims=17)\n",
    "    run(n_input_dims=32)\n",
    "    run(n_input_dims=64)"
   ]
  }
 ],
 "metadata": {
  "kernelspec": {
   "display_name": "nerf_pl",
   "language": "python",
   "name": "python3"
  },
  "language_info": {
   "codemirror_mode": {
    "name": "ipython",
    "version": 3
   },
   "file_extension": ".py",
   "mimetype": "text/x-python",
   "name": "python",
   "nbconvert_exporter": "python",
   "pygments_lexer": "ipython3",
   "version": "3.12.1"
  }
 },
 "nbformat": 4,
 "nbformat_minor": 2
}
