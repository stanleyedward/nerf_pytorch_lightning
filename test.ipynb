{
 "cells": [
  {
   "cell_type": "code",
   "execution_count": 1,
   "metadata": {},
   "outputs": [],
   "source": [
    "from torch.utils.data import Dataset\n",
    "import torch\n",
    "import numpy as np\n",
    "from utils import get_ray_directions, get_rays\n",
    "import os\n",
    "import json\n",
    "from torchvision import transforms\n",
    "from PIL import Image\n",
    "import matplotlib.pyplot as plt\n",
    "from torch.utils.data import DataLoader\n",
    "from tqdm import tqdm\n",
    "from typing import Tuple\n",
    "import lightning as L\n",
    "from rendering import rendering\n",
    "\n",
    "from dataset import LegoDataset, LegoDataModule\n",
    "from model import Nerf"
   ]
  },
  {
   "cell_type": "code",
   "execution_count": 58,
   "metadata": {},
   "outputs": [],
   "source": [
    "lego_dataset = LegoDataset(root_dir=\"dataset/lego/\", split=\"test\", img_shape=(200, 200))"
   ]
  },
  {
   "cell_type": "code",
   "execution_count": 10,
   "metadata": {},
   "outputs": [],
   "source": [
    "train_dataloader = DataLoader(\n",
    "    torch.cat(\n",
    "        (\n",
    "            lego_dataset.all_rays_origin.type(torch.float),\n",
    "            lego_dataset.all_rays_direction.type(torch.float),\n",
    "            lego_dataset.all_rgbs.type(torch.float),\n",
    "        ),\n",
    "        dim=1,\n",
    "    ),\n",
    "    batch_size=1024,\n",
    "    num_workers=3,\n",
    "    shuffle=True,\n",
    ")\n",
    "\n",
    "image_1_4 = int(lego_dataset.img_shape[0] * (1 / 4))\n",
    "image_3_4 = int(lego_dataset.img_shape[0] * (3 / 4))\n",
    "warmup_dataloader = DataLoader(\n",
    "    torch.cat(\n",
    "        (\n",
    "            lego_dataset.all_rays_origin.reshape(\n",
    "                len(lego_dataset),\n",
    "                lego_dataset.img_shape[0],\n",
    "                lego_dataset.img_shape[1],\n",
    "                3,\n",
    "            )[:, image_1_4:image_3_4, image_1_4:image_3_4, :]\n",
    "            .reshape(-1, 3)\n",
    "            .type(torch.float),\n",
    "            lego_dataset.all_rays_direction.reshape(\n",
    "                len(lego_dataset),\n",
    "                lego_dataset.img_shape[0],\n",
    "                lego_dataset.img_shape[1],\n",
    "                3,\n",
    "            )[:, image_1_4:image_3_4, image_1_4:image_3_4, :]\n",
    "            .reshape(-1, 3)\n",
    "            .type(torch.float),\n",
    "            lego_dataset.all_rgbs.reshape(\n",
    "                len(lego_dataset),\n",
    "                lego_dataset.img_shape[0],\n",
    "                lego_dataset.img_shape[1],\n",
    "                3,\n",
    "            )[:, image_1_4:image_3_4, image_1_4:image_3_4, :]\n",
    "            .reshape(-1, 3)\n",
    "            .type(torch.float),\n",
    "        ),\n",
    "        dim=1,\n",
    "    ),\n",
    "    batch_size=1024,\n",
    "    num_workers=3,\n",
    "    shuffle=True,\n",
    ")"
   ]
  },
  {
   "cell_type": "code",
   "execution_count": 4,
   "metadata": {},
   "outputs": [
    {
     "data": {
      "text/plain": [
       "tensor([-0.0538,  3.8455,  1.2081], dtype=torch.float64)"
      ]
     },
     "execution_count": 4,
     "metadata": {},
     "output_type": "execute_result"
    }
   ],
   "source": [
    "lego_dataset.all_rays_origin[0]"
   ]
  },
  {
   "cell_type": "code",
   "execution_count": 7,
   "metadata": {},
   "outputs": [
    {
     "data": {
      "text/plain": [
       "3907"
      ]
     },
     "execution_count": 7,
     "metadata": {},
     "output_type": "execute_result"
    }
   ],
   "source": [
    "len(warmup_dataloader)"
   ]
  },
  {
   "cell_type": "code",
   "execution_count": 11,
   "metadata": {},
   "outputs": [],
   "source": [
    "def training(\n",
    "    model, optimizer, scheduler, dataloader, tn, tf, nb_bins, nb_epochs, device=\"cpu\"\n",
    "):\n",
    "\n",
    "    training_loss = []\n",
    "\n",
    "    progress_bar = tqdm(\n",
    "        enumerate(dataloader),\n",
    "        total=len(dataloader),\n",
    "    )\n",
    "\n",
    "    for epoch in range(nb_epochs):\n",
    "        progress_bar.set_description(f\"Training Epoch: {epoch}\")\n",
    "        for idx, batch in progress_bar:\n",
    "            origin = batch[:, :3].to(device)\n",
    "            direction = batch[:, 3:6].to(device)\n",
    "\n",
    "            target = batch[:, 6:].to(device)\n",
    "\n",
    "            prediction = rendering(model, origin, direction, tn, tf, nb_bins, device)\n",
    "\n",
    "            loss = ((prediction - target) ** 2).mean()\n",
    "\n",
    "            optimizer.zero_grad()\n",
    "            loss.backward()\n",
    "            optimizer.step()\n",
    "\n",
    "            progress_bar.set_postfix({\"loss\": loss.item()})\n",
    "            training_loss.append(loss.item())\n",
    "\n",
    "        scheduler.step()\n",
    "\n",
    "        torch.save(model.cpu(), \"models/model_nerf\")\n",
    "        model.to(device)"
   ]
  },
  {
   "cell_type": "code",
   "execution_count": 1,
   "metadata": {},
   "outputs": [
    {
     "ename": "NameError",
     "evalue": "name 'torch' is not defined",
     "output_type": "error",
     "traceback": [
      "\u001b[0;31m---------------------------------------------------------------------------\u001b[0m",
      "\u001b[0;31mNameError\u001b[0m                                 Traceback (most recent call last)",
      "Cell \u001b[0;32mIn[1], line 1\u001b[0m\n\u001b[0;32m----> 1\u001b[0m device \u001b[38;5;241m=\u001b[39m \u001b[38;5;124m'\u001b[39m\u001b[38;5;124mcuda\u001b[39m\u001b[38;5;124m'\u001b[39m \u001b[38;5;28;01mif\u001b[39;00m \u001b[43mtorch\u001b[49m\u001b[38;5;241m.\u001b[39mcuda\u001b[38;5;241m.\u001b[39mis_available() \u001b[38;5;28;01melse\u001b[39;00m \u001b[38;5;124m'\u001b[39m\u001b[38;5;124mcpu\u001b[39m\u001b[38;5;124m'\u001b[39m\n\u001b[1;32m      3\u001b[0m \u001b[38;5;66;03m#hyperparams\u001b[39;00m\n\u001b[1;32m      4\u001b[0m tn \u001b[38;5;241m=\u001b[39m \u001b[38;5;241m2.0\u001b[39m\n",
      "\u001b[0;31mNameError\u001b[0m: name 'torch' is not defined"
     ]
    }
   ],
   "source": [
    "device = \"cuda\" if torch.cuda.is_available() else \"cpu\"\n",
    "\n",
    "# hyperparams\n",
    "tn = 2.0\n",
    "tf = 6.0\n",
    "nb_epochs = 16\n",
    "learning_rate = 1e-3\n",
    "gamma = 0.5\n",
    "nb_bins = 100\n",
    "\n",
    "model = Nerf().to(device)\n",
    "optimizer = torch.optim.Adam(params=model.parameters(), lr=learning_rate)\n",
    "scheduler = torch.optim.lr_scheduler.MultiStepLR(\n",
    "    optimizer, milestones=[2, 4, 8], gamma=gamma\n",
    ")\n",
    "\n",
    "\n",
    "# warmup on 1 epoch\n",
    "training_loss = training(\n",
    "    model, optimizer, scheduler, warmup_dataloader, tn, tf, nb_bins, 1, device\n",
    ")\n",
    "plt.plot(training_loss)\n",
    "plt.show()\n",
    "\n",
    "# training_loss = training(model, optimizer, scheduler, train_dataloader, tn, tf, nb_bins, nb_epochs, device)\n",
    "# plt.plot(training_loss)\n",
    "# plt.show()"
   ]
  },
  {
   "cell_type": "code",
   "execution_count": 6,
   "metadata": {},
   "outputs": [
    {
     "data": {
      "text/plain": [
       "Nerf(\n",
       "  (block1): Sequential(\n",
       "    (0): Linear(in_features=63, out_features=256, bias=True)\n",
       "    (1): ReLU()\n",
       "    (2): Linear(in_features=256, out_features=256, bias=True)\n",
       "    (3): ReLU()\n",
       "    (4): Linear(in_features=256, out_features=256, bias=True)\n",
       "    (5): ReLU()\n",
       "    (6): Linear(in_features=256, out_features=256, bias=True)\n",
       "    (7): ReLU()\n",
       "    (8): Linear(in_features=256, out_features=256, bias=True)\n",
       "    (9): ReLU()\n",
       "  )\n",
       "  (block2): Sequential(\n",
       "    (0): Linear(in_features=319, out_features=256, bias=True)\n",
       "    (1): ReLU()\n",
       "    (2): Linear(in_features=256, out_features=256, bias=True)\n",
       "    (3): ReLU()\n",
       "    (4): Linear(in_features=256, out_features=256, bias=True)\n",
       "    (5): ReLU()\n",
       "    (6): Linear(in_features=256, out_features=256, bias=True)\n",
       "    (7): ReLU()\n",
       "    (8): Linear(in_features=256, out_features=257, bias=True)\n",
       "  )\n",
       "  (rgb_head): Sequential(\n",
       "    (0): Linear(in_features=283, out_features=128, bias=True)\n",
       "    (1): ReLU()\n",
       "    (2): Linear(in_features=128, out_features=3, bias=True)\n",
       "    (3): Sigmoid()\n",
       "  )\n",
       ")"
      ]
     },
     "execution_count": 6,
     "metadata": {},
     "output_type": "execute_result"
    }
   ],
   "source": [
    "torch.save(model.cpu(), \"models/model_nerf\")\n",
    "model.to(device)"
   ]
  },
  {
   "cell_type": "code",
   "execution_count": 22,
   "metadata": {},
   "outputs": [
    {
     "data": {
      "text/plain": [
       "torch.Size([160000, 3])"
      ]
     },
     "execution_count": 22,
     "metadata": {},
     "output_type": "execute_result"
    }
   ],
   "source": [
    "lego_dataset.all_rays_direction.reshape(100, -1, 3)[0].shape\n",
    "lego_dataset.all_rays_origin.reshape(100, -1, 3)[0].shape"
   ]
  },
  {
   "cell_type": "code",
   "execution_count": 2,
   "metadata": {},
   "outputs": [
    {
     "ename": "NameError",
     "evalue": "name 'torch' is not defined",
     "output_type": "error",
     "traceback": [
      "\u001b[0;31m---------------------------------------------------------------------------\u001b[0m",
      "\u001b[0;31mNameError\u001b[0m                                 Traceback (most recent call last)",
      "Cell \u001b[0;32mIn[2], line 5\u001b[0m\n\u001b[1;32m      2\u001b[0m     \u001b[38;5;28;01mreturn\u001b[39;00m \u001b[38;5;241m20\u001b[39m \u001b[38;5;241m*\u001b[39m np\u001b[38;5;241m.\u001b[39mlog10(\u001b[38;5;241m1\u001b[39m \u001b[38;5;241m/\u001b[39m np\u001b[38;5;241m.\u001b[39msqrt(mse_loss))\n\u001b[1;32m      4\u001b[0m \u001b[38;5;28;01mfrom\u001b[39;00m \u001b[38;5;21;01mpathlib\u001b[39;00m \u001b[38;5;28;01mimport\u001b[39;00m Path\n\u001b[0;32m----> 5\u001b[0m \u001b[38;5;129m@torch\u001b[39m\u001b[38;5;241m.\u001b[39minference_mode()\n\u001b[1;32m      6\u001b[0m \u001b[38;5;28;01mdef\u001b[39;00m \u001b[38;5;21mtest\u001b[39m(\n\u001b[1;32m      7\u001b[0m     model,\n\u001b[1;32m      8\u001b[0m     origin,\n\u001b[1;32m      9\u001b[0m     direction,\n\u001b[1;32m     10\u001b[0m     tn,\n\u001b[1;32m     11\u001b[0m     tf,\n\u001b[1;32m     12\u001b[0m     image_index,\n\u001b[1;32m     13\u001b[0m     nb_bins\u001b[38;5;241m=\u001b[39m\u001b[38;5;241m100\u001b[39m,\n\u001b[1;32m     14\u001b[0m     chunk_size\u001b[38;5;241m=\u001b[39m\u001b[38;5;241m20\u001b[39m,\n\u001b[1;32m     15\u001b[0m     height\u001b[38;5;241m=\u001b[39m\u001b[38;5;241m400\u001b[39m,\n\u001b[1;32m     16\u001b[0m     width\u001b[38;5;241m=\u001b[39m\u001b[38;5;241m400\u001b[39m,\n\u001b[1;32m     17\u001b[0m     target\u001b[38;5;241m=\u001b[39m\u001b[38;5;28;01mNone\u001b[39;00m,\n\u001b[1;32m     18\u001b[0m     outputs_dir \u001b[38;5;241m=\u001b[39m \u001b[38;5;28;01mNone\u001b[39;00m,\n\u001b[1;32m     19\u001b[0m     title\u001b[38;5;241m=\u001b[39m\u001b[38;5;28;01mTrue\u001b[39;00m\n\u001b[1;32m     20\u001b[0m ):\n\u001b[1;32m     22\u001b[0m     save_dir \u001b[38;5;241m=\u001b[39m Path(outputs_dir)\n\u001b[1;32m     23\u001b[0m     save_dir\u001b[38;5;241m.\u001b[39mmkdir(exist_ok\u001b[38;5;241m=\u001b[39m\u001b[38;5;28;01mTrue\u001b[39;00m,\n\u001b[1;32m     24\u001b[0m                    parents\u001b[38;5;241m=\u001b[39m\u001b[38;5;28;01mTrue\u001b[39;00m)\n",
      "\u001b[0;31mNameError\u001b[0m: name 'torch' is not defined"
     ]
    }
   ],
   "source": [
    "def mse2psnr(mse_loss):\n",
    "    return 20 * np.log10(1 / np.sqrt(mse_loss))\n",
    "\n",
    "\n",
    "from pathlib import Path\n",
    "\n",
    "\n",
    "@torch.inference_mode()\n",
    "def test(\n",
    "    model,\n",
    "    origin,\n",
    "    direction,\n",
    "    tn,\n",
    "    tf,\n",
    "    image_index,\n",
    "    nb_bins=100,\n",
    "    chunk_size=20,\n",
    "    height=400,\n",
    "    width=400,\n",
    "    target=None,\n",
    "    outputs_dir=None,\n",
    "    title=True,\n",
    "):\n",
    "\n",
    "    save_dir = Path(outputs_dir)\n",
    "    save_dir.mkdir(exist_ok=True, parents=True)\n",
    "\n",
    "    with torch.inference_mode():\n",
    "        model.eval()\n",
    "        origin = origin.chunk(chunk_size)\n",
    "        direction = direction.chunk(chunk_size)\n",
    "\n",
    "        image = []\n",
    "        for origin_batch, direction_batch in zip(\n",
    "            origin, direction\n",
    "        ):  # zip to interate both lists at the same time\n",
    "            img_batch = rendering(\n",
    "                model,\n",
    "                origin_batch,\n",
    "                direction_batch,\n",
    "                tn,\n",
    "                tf,\n",
    "                nb_bins,\n",
    "                device=origin_batch.device,\n",
    "            )\n",
    "            image.append(img_batch)  # [N, 3]\n",
    "\n",
    "        image = torch.cat(image)  # [H*W, 3]\n",
    "        image = (\n",
    "            image.reshape(height, width, 3).cpu().numpy()\n",
    "        )  # no need for .data as there are no gradients!\n",
    "\n",
    "        if target is not None:\n",
    "            # mse = nn.MSELoss()\n",
    "            # loss = mse(image, target)\n",
    "            loss = ((image - target) ** 2).mean()  # same as mean squared errorfunction\n",
    "            psnr = mse2psnr(loss)\n",
    "\n",
    "            if outputs_dir is not None:\n",
    "                if title:\n",
    "                    plt.title(f\"MSE: {loss:.4f} || PSNR: {psnr:.4f}\")\n",
    "                plt.imshow(image)\n",
    "                plt.savefig(\n",
    "                    f\"{outputs_dir}/lego_{image_index}.png\", bbox_inches=\"tight\"\n",
    "                )\n",
    "            return image, loss, psnr\n",
    "\n",
    "        else:\n",
    "            if outputs_dir is not None:\n",
    "                plt.imshow(image)\n",
    "                plt.savefig(\n",
    "                    f\"{outputs_dir}/lego_{image_index}.png\", bbox_inches=\"tight\"\n",
    "                )\n",
    "            return image"
   ]
  },
  {
   "cell_type": "code",
   "execution_count": 60,
   "metadata": {},
   "outputs": [],
   "source": [
    "device = \"cuda\" if torch.cuda.is_available() else \"cpu\"\n",
    "nerf_model = torch.load(\"models/model_nerf\").to(device)\n",
    "nerf_model.eval()\n",
    "\n",
    "# hyperparams\n",
    "tn = 2.0\n",
    "tf = 6.0\n",
    "nb_epochs = 16\n",
    "learning_rate = 1e-3\n",
    "gamma = 0.5\n",
    "nb_bins = 100"
   ]
  },
  {
   "cell_type": "code",
   "execution_count": 71,
   "metadata": {},
   "outputs": [
    {
     "ename": "AttributeError",
     "evalue": "'LegoDataset' object has no attribute 'all_rays_origin'",
     "output_type": "error",
     "traceback": [
      "\u001b[0;31m---------------------------------------------------------------------------\u001b[0m",
      "\u001b[0;31mAttributeError\u001b[0m                            Traceback (most recent call last)",
      "Cell \u001b[0;32mIn[71], line 1\u001b[0m\n\u001b[0;32m----> 1\u001b[0m \u001b[43mlego_dataset\u001b[49m\u001b[38;5;241;43m.\u001b[39;49m\u001b[43mall_rays_origin\u001b[49m\u001b[38;5;241m.\u001b[39mreshape(\u001b[38;5;241m100\u001b[39m,\u001b[38;5;241m-\u001b[39m\u001b[38;5;241m1\u001b[39m,\u001b[38;5;241m3\u001b[39m)\u001b[38;5;241m.\u001b[39mshape\n",
      "\u001b[0;31mAttributeError\u001b[0m: 'LegoDataset' object has no attribute 'all_rays_origin'"
     ]
    }
   ],
   "source": [
    "lego_dataset.all_rays_origin.reshape(100, -1, 3).shape"
   ]
  },
  {
   "cell_type": "code",
   "execution_count": 73,
   "metadata": {},
   "outputs": [
    {
     "name": "stderr",
     "output_type": "stream",
     "text": [
      "/home/stanley/Documents/shid/nerf_pytorch_lightning/utils.py:69: To copy construct from a tensor, it is recommended to use sourceTensor.clone().detach() or sourceTensor.clone().detach().requires_grad_(True), rather than torch.tensor(sourceTensor).\n"
     ]
    },
    {
     "data": {
      "text/plain": [
       "torch.Size([200, 200, 3])"
      ]
     },
     "execution_count": 73,
     "metadata": {},
     "output_type": "execute_result"
    }
   ],
   "source": [
    "lego_dataset[199][\"rays_origin\"].shape\n",
    "# lego_dataset[0]['rays_direction']\n",
    "# lego_dataset[0]['rgbs']"
   ]
  },
  {
   "cell_type": "code",
   "execution_count": 61,
   "metadata": {},
   "outputs": [
    {
     "ename": "AttributeError",
     "evalue": "'LegoDataset' object has no attribute 'all_rays_origin'",
     "output_type": "error",
     "traceback": [
      "\u001b[0;31m---------------------------------------------------------------------------\u001b[0m",
      "\u001b[0;31mAttributeError\u001b[0m                            Traceback (most recent call last)",
      "Cell \u001b[0;32mIn[61], line 4\u001b[0m\n\u001b[1;32m      1\u001b[0m index \u001b[38;5;241m=\u001b[39m \u001b[38;5;241m11\u001b[39m\n\u001b[1;32m      2\u001b[0m img, mse, psnr \u001b[38;5;241m=\u001b[39m test(\n\u001b[1;32m      3\u001b[0m     nerf_model,\n\u001b[0;32m----> 4\u001b[0m     \u001b[43mlego_dataset\u001b[49m\u001b[38;5;241;43m.\u001b[39;49m\u001b[43mall_rays_origin\u001b[49m\u001b[38;5;241m.\u001b[39mreshape(\u001b[38;5;241m100\u001b[39m, \u001b[38;5;241m-\u001b[39m\u001b[38;5;241m1\u001b[39m, \u001b[38;5;241m3\u001b[39m)[index]\u001b[38;5;241m.\u001b[39mto(device)\u001b[38;5;241m.\u001b[39mtype(torch\u001b[38;5;241m.\u001b[39mfloat),\n\u001b[1;32m      5\u001b[0m     lego_dataset\u001b[38;5;241m.\u001b[39mall_rays_direction\u001b[38;5;241m.\u001b[39mreshape(\u001b[38;5;241m100\u001b[39m, \u001b[38;5;241m-\u001b[39m\u001b[38;5;241m1\u001b[39m, \u001b[38;5;241m3\u001b[39m)[index]\u001b[38;5;241m.\u001b[39mto(device)\u001b[38;5;241m.\u001b[39mtype(torch\u001b[38;5;241m.\u001b[39mfloat),\n\u001b[1;32m      6\u001b[0m     tn,\n\u001b[1;32m      7\u001b[0m     tf,\n\u001b[1;32m      8\u001b[0m     image_index\u001b[38;5;241m=\u001b[39mindex,\n\u001b[1;32m      9\u001b[0m     nb_bins\u001b[38;5;241m=\u001b[39m\u001b[38;5;241m100\u001b[39m,\n\u001b[1;32m     10\u001b[0m     chunk_size\u001b[38;5;241m=\u001b[39m\u001b[38;5;241m20\u001b[39m,\n\u001b[1;32m     11\u001b[0m     height\u001b[38;5;241m=\u001b[39mlego_dataset\u001b[38;5;241m.\u001b[39mimg_shape[\u001b[38;5;241m0\u001b[39m],\n\u001b[1;32m     12\u001b[0m     width\u001b[38;5;241m=\u001b[39mlego_dataset\u001b[38;5;241m.\u001b[39mimg_shape[\u001b[38;5;241m1\u001b[39m],\n\u001b[1;32m     13\u001b[0m     target\u001b[38;5;241m=\u001b[39mlego_dataset\u001b[38;5;241m.\u001b[39mall_rgbs\u001b[38;5;241m.\u001b[39mreshape(\u001b[38;5;241m100\u001b[39m, \u001b[38;5;241m200\u001b[39m, \u001b[38;5;241m200\u001b[39m, \u001b[38;5;241m3\u001b[39m)[index]\u001b[38;5;241m.\u001b[39mnumpy(),\n\u001b[1;32m     14\u001b[0m     outputs_dir\u001b[38;5;241m=\u001b[39m\u001b[38;5;124m'\u001b[39m\u001b[38;5;124mnerf_test\u001b[39m\u001b[38;5;124m'\u001b[39m\n\u001b[1;32m     15\u001b[0m )\n\u001b[1;32m     17\u001b[0m \u001b[38;5;66;03m# plt.title(f\"mse loss: {mse:.4f} || psnr: {psnr:.4f}\")\u001b[39;00m\n\u001b[1;32m     18\u001b[0m \u001b[38;5;66;03m# plt.imshow(img)\u001b[39;00m\n\u001b[1;32m     19\u001b[0m \u001b[38;5;66;03m# plt.savefig(f\"test.png\", bbox_inches = 'tight')\u001b[39;00m\n",
      "\u001b[0;31mAttributeError\u001b[0m: 'LegoDataset' object has no attribute 'all_rays_origin'"
     ]
    }
   ],
   "source": [
    "index = 11\n",
    "# on train set\n",
    "img, mse, psnr = test(\n",
    "    nerf_model,\n",
    "    lego_dataset.all_rays_origin.reshape(100, -1, 3)[index]\n",
    "    .to(device)\n",
    "    .type(torch.float),\n",
    "    lego_dataset.all_rays_direction.reshape(100, -1, 3)[index]\n",
    "    .to(device)\n",
    "    .type(torch.float),\n",
    "    tn,\n",
    "    tf,\n",
    "    image_index=index,\n",
    "    nb_bins=100,\n",
    "    chunk_size=20,\n",
    "    height=lego_dataset.img_shape[0],\n",
    "    width=lego_dataset.img_shape[1],\n",
    "    target=lego_dataset.all_rgbs.reshape(100, 200, 200, 3)[index].numpy(),\n",
    "    outputs_dir=\"nerf_test\",\n",
    ")\n",
    "\n",
    "# plt.title(f\"mse loss: {mse:.4f} || psnr: {psnr:.4f}\")\n",
    "# plt.imshow(img)\n",
    "# plt.savefig(f\"test.png\", bbox_inches = 'tight')"
   ]
  },
  {
   "cell_type": "code",
   "execution_count": 1,
   "metadata": {},
   "outputs": [
    {
     "ename": "NameError",
     "evalue": "name 'test' is not defined",
     "output_type": "error",
     "traceback": [
      "\u001b[0;31m---------------------------------------------------------------------------\u001b[0m",
      "\u001b[0;31mNameError\u001b[0m                                 Traceback (most recent call last)",
      "Cell \u001b[0;32mIn[1], line 2\u001b[0m\n\u001b[1;32m      1\u001b[0m \u001b[38;5;28;01mfor\u001b[39;00m idx \u001b[38;5;129;01min\u001b[39;00m \u001b[38;5;28mrange\u001b[39m(\u001b[38;5;241m51\u001b[39m, \u001b[38;5;241m200\u001b[39m):\n\u001b[0;32m----> 2\u001b[0m     img, mse, psnr \u001b[38;5;241m=\u001b[39m \u001b[43mtest\u001b[49m(\n\u001b[1;32m      3\u001b[0m     nerf_model,\n\u001b[1;32m      4\u001b[0m     lego_dataset[idx][\u001b[38;5;124m'\u001b[39m\u001b[38;5;124mrays_origin\u001b[39m\u001b[38;5;124m'\u001b[39m]\u001b[38;5;241m.\u001b[39mreshape(\u001b[38;5;241m-\u001b[39m\u001b[38;5;241m1\u001b[39m, \u001b[38;5;241m3\u001b[39m)\u001b[38;5;241m.\u001b[39mto(device)\u001b[38;5;241m.\u001b[39mtype(torch\u001b[38;5;241m.\u001b[39mfloat),\n\u001b[1;32m      5\u001b[0m     lego_dataset[idx][\u001b[38;5;124m'\u001b[39m\u001b[38;5;124mrays_direction\u001b[39m\u001b[38;5;124m'\u001b[39m]\u001b[38;5;241m.\u001b[39mreshape(\u001b[38;5;241m-\u001b[39m\u001b[38;5;241m1\u001b[39m, \u001b[38;5;241m3\u001b[39m)\u001b[38;5;241m.\u001b[39mto(device)\u001b[38;5;241m.\u001b[39mtype(torch\u001b[38;5;241m.\u001b[39mfloat),\n\u001b[1;32m      6\u001b[0m     tn,\n\u001b[1;32m      7\u001b[0m     tf,\n\u001b[1;32m      8\u001b[0m     image_index\u001b[38;5;241m=\u001b[39midx,\n\u001b[1;32m      9\u001b[0m     nb_bins\u001b[38;5;241m=\u001b[39m\u001b[38;5;241m100\u001b[39m,\n\u001b[1;32m     10\u001b[0m     chunk_size\u001b[38;5;241m=\u001b[39m\u001b[38;5;241m20\u001b[39m,\n\u001b[1;32m     11\u001b[0m     height\u001b[38;5;241m=\u001b[39mlego_dataset\u001b[38;5;241m.\u001b[39mimg_shape[\u001b[38;5;241m0\u001b[39m],\n\u001b[1;32m     12\u001b[0m     width\u001b[38;5;241m=\u001b[39mlego_dataset\u001b[38;5;241m.\u001b[39mimg_shape[\u001b[38;5;241m1\u001b[39m],\n\u001b[1;32m     13\u001b[0m     target\u001b[38;5;241m=\u001b[39mlego_dataset[idx][\u001b[38;5;124m'\u001b[39m\u001b[38;5;124mrgbs\u001b[39m\u001b[38;5;124m'\u001b[39m]\u001b[38;5;241m.\u001b[39mnumpy(),\n\u001b[1;32m     14\u001b[0m     outputs_dir\u001b[38;5;241m=\u001b[39m\u001b[38;5;124m'\u001b[39m\u001b[38;5;124mnerf_test\u001b[39m\u001b[38;5;124m'\u001b[39m,\n\u001b[1;32m     15\u001b[0m     title\u001b[38;5;241m=\u001b[39m\u001b[38;5;28;01mFalse\u001b[39;00m\n\u001b[1;32m     16\u001b[0m )\n",
      "\u001b[0;31mNameError\u001b[0m: name 'test' is not defined"
     ]
    }
   ],
   "source": [
    "for idx in range(51, 200):\n",
    "    img, mse, psnr = test(\n",
    "        nerf_model,\n",
    "        lego_dataset[idx][\"rays_origin\"].reshape(-1, 3).to(device).type(torch.float),\n",
    "        lego_dataset[idx][\"rays_direction\"].reshape(-1, 3).to(device).type(torch.float),\n",
    "        tn,\n",
    "        tf,\n",
    "        image_index=idx,\n",
    "        nb_bins=100,\n",
    "        chunk_size=20,\n",
    "        height=lego_dataset.img_shape[0],\n",
    "        width=lego_dataset.img_shape[1],\n",
    "        target=lego_dataset[idx][\"rgbs\"].numpy(),\n",
    "        outputs_dir=\"nerf_test\",\n",
    "        title=False,\n",
    "    )"
   ]
  },
  {
   "cell_type": "code",
   "execution_count": null,
   "metadata": {},
   "outputs": [],
   "source": []
  },
  {
   "cell_type": "code",
   "execution_count": null,
   "metadata": {},
   "outputs": [],
   "source": []
  }
 ],
 "metadata": {
  "kernelspec": {
   "display_name": "base",
   "language": "python",
   "name": "python3"
  },
  "language_info": {
   "codemirror_mode": {
    "name": "ipython",
    "version": 3
   },
   "file_extension": ".py",
   "mimetype": "text/x-python",
   "name": "python",
   "nbconvert_exporter": "python",
   "pygments_lexer": "ipython3",
   "version": "3.12.1"
  }
 },
 "nbformat": 4,
 "nbformat_minor": 2
}
