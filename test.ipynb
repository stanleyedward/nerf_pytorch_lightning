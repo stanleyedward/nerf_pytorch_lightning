{
 "cells": [
  {
   "cell_type": "code",
   "execution_count": null,
   "metadata": {},
   "outputs": [],
   "source": [
    "import torch\n",
    "import matplotlib.pyplot as plt\n",
    "from torch.utils.data import DataLoader\n",
    "from torch import nn\n",
    "import numpy as np\n",
    "\n",
    "import dataset\n",
    "import rendering\n",
    "import model\n",
    "import train\n",
    "\n",
    "import mcubes\n",
    "import trimesh\n",
    "from model import NeRFLightning\n",
    "from config import (\n",
    "    CKPT_DIR,\n",
    "    SCALE,\n",
    "    NB_BINS\n",
    ")"
   ]
  },
  {
   "cell_type": "code",
   "execution_count": null,
   "metadata": {},
   "outputs": [],
   "source": [
    "device = \"cuda\" if torch.cuda.is_available() else \"cpu\"\n",
    "lit_nerf = NeRFLightning.load_from_checkpoint(CKPT_DIR)\n",
    "lit_nerf.eval()\n",
    "N = NB_BINS\n",
    "x = torch.linspace(-SCALE, SCALE, N)\n",
    "y = torch.linspace(-SCALE, SCALE, N)\n",
    "z = torch.linspace(-SCALE, SCALE, N)\n",
    "\n",
    "# 3d grid values\n",
    "x, y, z = torch.meshgrid((x, y, z))\n",
    "xyz = torch.cat((x.reshape(-1, 1), y.reshape(-1, 1), z.reshape(-1, 1)), dim=1)"
   ]
  },
  {
   "cell_type": "code",
   "execution_count": null,
   "metadata": {},
   "outputs": [],
   "source": [
    "chunk_size = 10000\n",
    "chunks = [xyz[i:i + chunk_size] for i in range(0, xyz.shape[0], chunk_size)]\n",
    "densities = []\n",
    "for chunk in chunks:\n",
    "  \n",
    "  with torch.inference_mode():\n",
    "    _, density = lit_nerf.forward(chunk.to(device), torch.zeros_like(chunk).to(device))\n",
    "  densities.append(density)\n",
    "density = torch.cat(densities, dim=0)\n",
    "density = density.cpu().numpy().reshape(N, N, N)"
   ]
  },
  {
   "cell_type": "code",
   "execution_count": null,
   "metadata": {},
   "outputs": [],
   "source": [
    "vertices, triangles = mcubes.marching_cubes(density, 10 * np.mean(density))\n",
    "mesh = trimesh.Trimesh(vertices / N, triangles)\n",
    "mesh.show()"
   ]
  },
  {
   "cell_type": "code",
   "execution_count": null,
   "metadata": {},
   "outputs": [],
   "source": [
    "mesh.export(\"models/nerf_mesh.obj\")"
   ]
  },
  {
   "cell_type": "code",
   "execution_count": null,
   "metadata": {},
   "outputs": [],
   "source": [
    "trimesh.load_mesh(\"models/nerf_mesh.obj\").show()"
   ]
  }
 ],
 "metadata": {
  "kernelspec": {
   "display_name": "base",
   "language": "python",
   "name": "python3"
  },
  "language_info": {
   "codemirror_mode": {
    "name": "ipython",
    "version": 3
   },
   "file_extension": ".py",
   "mimetype": "text/x-python",
   "name": "python",
   "nbconvert_exporter": "python",
   "pygments_lexer": "ipython3",
   "version": "3.12.1"
  }
 },
 "nbformat": 4,
 "nbformat_minor": 2
}
