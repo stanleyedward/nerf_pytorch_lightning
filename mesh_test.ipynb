{
 "cells": [
  {
   "cell_type": "code",
   "execution_count": 1,
   "metadata": {},
   "outputs": [],
   "source": [
    "import torch\n",
    "import matplotlib.pyplot as plt\n",
    "from torch.utils.data import DataLoader\n",
    "from torch import nn\n",
    "import numpy as np\n",
    "\n",
    "import dataset\n",
    "import rendering\n",
    "import model\n",
    "import train\n",
    "\n",
    "import mcubes\n",
    "import trimesh\n",
    "from model import NeRFLightning\n",
    "from config import (\n",
    "    DATA_DIR,\n",
    "    IMG_SIZE,\n",
    "    LEARNING_RATE,\n",
    "    TN,\n",
    "    TF,\n",
    "    NB_BINS,\n",
    "    GAMMA,\n",
    "    ACCELERATOR,\n",
    "    DEVICES,\n",
    "    PRECISION,\n",
    "    MAX_EPOCHS,\n",
    "    SCALE,\n",
    ")"
   ]
  },
  {
   "cell_type": "code",
   "execution_count": null,
   "metadata": {},
   "outputs": [],
   "source": [
    "device = \"cuda\" if torch.cuda.is_available() else \"cpu\"\n",
    "lit_nerf = NeRFLightning.load_from_checkpoint(\n",
    "    \"logs/LegoNeRF/ei19d3bj/checkpoints/epoch=0-step=3907.ckpt\"\n",
    ")\n",
    "lit_nerf.eval()\n",
    "N = 100\n",
    "x = torch.linspace(-SCALE, SCALE, N)\n",
    "y = torch.linspace(-SCALE, SCALE, N)\n",
    "z = torch.linspace(-SCALE, SCALE, N)\n",
    "\n",
    "# 3d grid values\n",
    "x, y, z = torch.meshgrid((x, y, z))\n",
    "xyz = torch.cat((x.reshape(-1, 1), y.reshape(-1, 1), z.reshape(-1, 1)), dim=1)\n",
    "with torch.inference_mode():\n",
    "    _, density = lit_nerf.forward(xyz.to(device), torch.zeros_like(xyz).to(device))\n",
    "density = density.cpu().numpy().reshape(N, N, N)\n",
    "vertices, triangles = mcubes.marching_cubes(density, np.mean(density))\n",
    "mesh = trimesh.Trimesh(vertices / N, triangles)\n",
    "mesh.show()"
   ]
  },
  {
   "cell_type": "code",
   "execution_count": null,
   "metadata": {},
   "outputs": [],
   "source": []
  }
 ],
 "metadata": {
  "kernelspec": {
   "display_name": "nerf_pl",
   "language": "python",
   "name": "python3"
  },
  "language_info": {
   "codemirror_mode": {
    "name": "ipython",
    "version": 3
   },
   "file_extension": ".py",
   "mimetype": "text/x-python",
   "name": "python",
   "nbconvert_exporter": "python",
   "pygments_lexer": "ipython3",
   "version": "3.12.1"
  }
 },
 "nbformat": 4,
 "nbformat_minor": 2
}
